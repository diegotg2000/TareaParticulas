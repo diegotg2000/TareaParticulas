{
 "cells": [
  {
   "cell_type": "code",
   "execution_count": 1,
   "metadata": {},
   "outputs": [
    {
     "name": "stdout",
     "output_type": "stream",
     "text": [
      "Populating the interactive namespace from numpy and matplotlib\n"
     ]
    }
   ],
   "source": [
    "import scipy as sp\n",
    "from scipy import special\n",
    "from scipy import optimize\n",
    "%pylab inline"
   ]
  },
  {
   "cell_type": "code",
   "execution_count": 5,
   "metadata": {},
   "outputs": [],
   "source": [
    "#estados ligados\n",
    "def j(x,l=0):\n",
    "    return sp.special.spherical_jn(l,x,derivative=False)\n",
    "def dj(x,l=0):\n",
    "    return sp.special.spherical_jn(l,x,derivative=True)\n",
    "def k(x,l=0):\n",
    "    return sp.special.spherical_kn(l,x,derivative=False)\n",
    "def dk(x,l=0):\n",
    "    return sp.special.spherical_kn(l,x,derivative=True)"
   ]
  },
  {
   "cell_type": "code",
   "execution_count": 52,
   "metadata": {},
   "outputs": [],
   "source": [
    "#-V<E<0\n",
    "def F(E,V=1.0,l=0):\n",
    "        return np.sqrt(-(1+V/E))*dj(np.sqrt(E+V),l)/j(np.sqrt(E+V),l)-dk(np.sqrt(-E),l)/k(np.sqrt(-E),l)"
   ]
  },
  {
   "cell_type": "code",
   "execution_count": 312,
   "metadata": {},
   "outputs": [
    {
     "name": "stderr",
     "output_type": "stream",
     "text": [
      "C:\\ProgramData\\Anaconda3\\lib\\site-packages\\ipykernel_launcher.py:3: RuntimeWarning: invalid value encountered in true_divide\n",
      "  This is separate from the ipykernel package so we can avoid doing imports until\n"
     ]
    },
    {
     "data": {
      "text/plain": [
       "(-10, 0)"
      ]
     },
     "execution_count": 312,
     "metadata": {},
     "output_type": "execute_result"
    },
    {
     "data": {
      "image/png": "[encoded data removed]",
      "text/plain": [
       "<Figure size 432x288 with 1 Axes>"
      ]
     },
     "metadata": {
      "needs_background": "light"
     },
     "output_type": "display_data"
    }
   ],
   "source": [
    "#potencial =10\n",
    "V=40\n",
    "l=4\n",
    "E=-np.linspace(0,V,800)[1:]\n",
    "def f(x):\n",
    "    return F(x,V,l)\n",
    "plt.scatter(E,f(E),s=1)\n",
    "plt.xlabel('E')\n",
    "plt.ylabel('f(E)')\n",
    "plt.ylim((-0.1,0.11))\n",
    "plt.xlim((-10,0))"
   ]
  },
  {
   "cell_type": "code",
   "execution_count": 323,
   "metadata": {},
   "outputs": [
    {
     "name": "stderr",
     "output_type": "stream",
     "text": [
      "C:\\ProgramData\\Anaconda3\\lib\\site-packages\\ipykernel_launcher.py:10: RuntimeWarning: invalid value encountered in less\n",
      "  # Remove the CWD from sys.path while we load stuff.\n"
     ]
    },
    {
     "data": {
      "image/png": "[encoded data removed]",
      "text/plain": [
       "<Figure size 576x432 with 1 Axes>"
      ]
     },
     "metadata": {
      "needs_background": "light"
     },
     "output_type": "display_data"
    }
   ],
   "source": [
    "plt.figure(figsize=(8,6))\n",
    "for V in range(10,50,10):\n",
    "    LL=[]\n",
    "    EE=-np.linspace(3,V,10000*V)\n",
    "    CEROS=np.array([])\n",
    "    for l in range(6):\n",
    "        def f(x):\n",
    "            return F(x,V,l)\n",
    "        FF=f(EE)\n",
    "        ceros=np.unique(np.around(EE[where(abs(FF)<0.0005)],decimals=3))\n",
    "        CEROS=np.concatenate((CEROS,ceros),axis=0)\n",
    "        for i in range(len(ceros)):\n",
    "            LL.append(l)\n",
    "    plt.scatter(LL,CEROS,label='$V_{o}=$'+str(V),marker='_',s=2000)\n",
    "    A=np.zeros(shape=(len(LL),2))\n",
    "    A[:,0]=LL\n",
    "    A[:,1]=CEROS\n",
    "    np.savetxt(str(V)+'_niveles.txt',A)\n",
    "plt.xlabel('$l$',fontsize=23)\n",
    "plt.ylabel('E',fontsize=23)\n",
    "plt.legend(fontsize=19)\n",
    "plt.yticks([0,-10,-20,-30])\n",
    "plt.xticks([0,1,2,3])\n",
    "plt.savefig('niveles.svg')"
   ]
  },
  {
   "cell_type": "code",
   "execution_count": 303,
   "metadata": {},
   "outputs": [
    {
     "data": {
      "text/plain": [
       "(-2, 2)"
      ]
     },
     "execution_count": 303,
     "metadata": {},
     "output_type": "execute_result"
    },
    {
     "data": {
      "image/png": "[encoded data removed]",
      "text/plain": [
       "<Figure size 432x288 with 1 Axes>"
      ]
     },
     "metadata": {},
     "output_type": "display_data"
    }
   ],
   "source": [
    "rmen=np.linspace(0,1,50)\n",
    "rmay=np.linspace(1,5,50)\n",
    "vin=-0.6*np.ones(50)\n",
    "vout=np.zeros(50)\n",
    "plt.plot(rmen,vin,c='red')\n",
    "plt.plot(rmay,vout,c='red')\n",
    "plt.plot([1,1],[-0.6,0],c='red')\n",
    "plt.xticks([])\n",
    "plt.yticks([])\n",
    "plt.xlabel('r')\n",
    "plt.ylim((-2,2))"
   ]
  },
  {
   "cell_type": "code",
   "execution_count": 2,
   "metadata": {},
   "outputs": [],
   "source": [
    "#scattering \n",
    "def j(x,l=0):\n",
    "    return sp.special.spherical_jn(l,x,derivative=False)\n",
    "def dj(x,l=0):\n",
    "    return sp.special.spherical_jn(l,x,derivative=True)\n",
    "def n(x,l=0):\n",
    "    return sp.special.spherical_yn(l,x,derivative=False)\n",
    "def dn(x,l=0):\n",
    "    return sp.special.spherical_yn(l,x,derivative=True)"
   ]
  },
  {
   "cell_type": "code",
   "execution_count": 3,
   "metadata": {},
   "outputs": [],
   "source": [
    "def tand(E,V=10,l=0):\n",
    "    A=np.sqrt(E+V)*dj(np.sqrt(E+V),l)*j(np.sqrt(E),l)-np.sqrt(E)*dj(np.sqrt(E),l)*j(np.sqrt(E+V),l)\n",
    "    B=np.sqrt(E+V)*dj(np.sqrt(E+V),l)*n(np.sqrt(E),l)-np.sqrt(E)*dn(np.sqrt(E),l)*j(np.sqrt(E+V),l)\n",
    "    return A/B"
   ]
  },
  {
   "cell_type": "code",
   "execution_count": 49,
   "metadata": {},
   "outputs": [],
   "source": [
    "def sigma_n(E,V=10,l=0):\n",
    "    return (2*l+1)*((tand(E,V,l)**2)/(1+tand(E,V,l)**2))/E"
   ]
  },
  {
   "cell_type": "code",
   "execution_count": 62,
   "metadata": {},
   "outputs": [
    {
     "data": {
      "text/plain": [
       "[<matplotlib.lines.Line2D at 0x20f41bf5fc8>]"
      ]
     },
     "execution_count": 62,
     "metadata": {},
     "output_type": "execute_result"
    },
    {
     "data": {
      "image/png": "[encoded data removed]",
      "text/plain": [
       "<Figure size 432x288 with 1 Axes>"
      ]
     },
     "metadata": {
      "needs_background": "light"
     },
     "output_type": "display_data"
    }
   ],
   "source": [
    "P=10\n",
    "E=np.linspace(0,P,1000)[1:]\n",
    "V=P\n",
    "Y=np.zeros(len(E))\n",
    "for l in range(4):\n",
    "    T=np.zeros(len(Y))\n",
    "    for i in range(len(T)):\n",
    "        T[i]=sigma_n(E[i],V,l)\n",
    "    Y=Y+T\n",
    "plt.plot(E, Y)"
   ]
  },
  {
   "cell_type": "code",
   "execution_count": 66,
   "metadata": {},
   "outputs": [
    {
     "data": {
      "text/plain": [
       "[<matplotlib.lines.Line2D at 0x20f41da25c8>]"
      ]
     },
     "execution_count": 66,
     "metadata": {},
     "output_type": "execute_result"
    },
    {
     "data": {
      "image/png": "[encoded data removed]",
      "text/plain": [
       "<Figure size 432x288 with 1 Axes>"
      ]
     },
     "metadata": {
      "needs_background": "light"
     },
     "output_type": "display_data"
    }
   ],
   "source": [
    "E=25.2\n",
    "V=np.linspace(10,80,100)\n",
    "Y=np.zeros(len(V))\n",
    "for l in range(4):\n",
    "    T=np.zeros(len(Y))\n",
    "    for i in range(len(T)):\n",
    "        T[i]=sigma_n(E,V[i],l)\n",
    "    Y=Y+T\n",
    "plt.plot(V, Y)"
   ]
  },
  {
   "cell_type": "code",
   "execution_count": null,
   "metadata": {},
   "outputs": [],
   "source": []
  }
 ],
 "metadata": {
  "kernelspec": {
   "display_name": "Python 3",
   "language": "python",
   "name": "python3"
  },
  "language_info": {
   "codemirror_mode": {
    "name": "ipython",
    "version": 3
   },
   "file_extension": ".py",
   "mimetype": "text/x-python",
   "name": "python",
   "nbconvert_exporter": "python",
   "pygments_lexer": "ipython3",
   "version": "3.7.4"
  }
 },
 "nbformat": 4,
 "nbformat_minor": 2
}
